{
 "cells": [
  {
   "cell_type": "code",
   "execution_count": 3,
   "id": "fb7a9d79",
   "metadata": {},
   "outputs": [],
   "source": [
    "\n",
    "from pyentrp import entropy as ent\n",
    "import numpy as np\n",
    "import pandas as pd\n",
    "\n",
    "from __future__ import unicode_literals\n",
    "\n",
    "import unittest"
   ]
  },
  {
   "cell_type": "code",
   "execution_count": 4,
   "id": "2cfb6ec8",
   "metadata": {},
   "outputs": [],
   "source": [
    "#reading the csv file"
   ]
  },
  {
   "cell_type": "code",
   "execution_count": null,
   "id": "5ade28b1",
   "metadata": {},
   "outputs": [],
   "source": [
    "#alldata= pd.read_csv(\"/Users/omoyeniogundipe/Desktop/projects/SP.csv\")\n",
    "alldata= pd.read_csv(\"./SP.csv\")\n",
    "alldata.head()\n",
    "\n",
    "# trying with the first 200 data\n",
    "data = alldata.head(200)"
   ]
  },
  {
   "cell_type": "code",
   "execution_count": null,
   "id": "7b5be06b",
   "metadata": {},
   "outputs": [],
   "source": [
    "data.info()"
   ]
  },
  {
   "cell_type": "code",
   "execution_count": null,
   "id": "81e22196",
   "metadata": {},
   "outputs": [],
   "source": [
    "#setting the date column as the index column \n",
    "\n",
    "#data.set_index('date', inplace=True)\n",
    "\n",
    "#data.index.name = 'date'"
   ]
  },
  {
   "cell_type": "code",
   "execution_count": null,
   "id": "ad1a1843",
   "metadata": {},
   "outputs": [],
   "source": [
    "#calculating the average price \n",
    "\n",
    "data['average_price'] = data.mean(axis=1)"
   ]
  },
  {
   "cell_type": "code",
   "execution_count": null,
   "id": "ddb93870",
   "metadata": {},
   "outputs": [],
   "source": [
    "#viewing the new data\n",
    "\n",
    "\n",
    "data.head()\n",
    "df = pd.DataFrame(data, columns =[\"date\", \"time\", \"price\", \"volume\", \"average_price\",\"SMA\"])\n",
    "df"
   ]
  },
  {
   "cell_type": "code",
   "execution_count": null,
   "id": "dc275560",
   "metadata": {},
   "outputs": [],
   "source": [
    "#visualizing the time series using line plots\n",
    "\n",
    "import matplotlib.pyplot as plt\n",
    "\n",
    "%matplotlib inline\n",
    "plt.style.use('seaborn-bright')\n",
    "# line plot - the average price\n",
    "df.plot(x = \"time\", y = \"average_price\", color='blue', linewidth=3, figsize=(12,6))\n",
    "# modify ticks size\n",
    "plt.xticks(fontsize=14)\n",
    "plt.yticks(fontsize=14)\n",
    "plt.legend('')\n",
    "\n",
    "# title and labels\n",
    "plt.title('Tick-by-Tick average price of S&P 500', fontsize=20)\n",
    "plt.xlabel('Time', fontsize=16)\n",
    "plt.ylabel('Average price', fontsize=16)\n",
    "\n",
    "plt.show()\n"
   ]
  },
  {
   "cell_type": "code",
   "execution_count": null,
   "id": "6c975b98",
   "metadata": {},
   "outputs": [],
   "source": [
    "#calculating simple moving average witha window size of 3 and a minimum number of periods of 1 and assigning it to the SMA field\n",
    "df['SMA'] =  df.rolling(3, min_periods=1).mean()['average_price']\n",
    "print(df)\n",
    "\n"
   ]
  },
  {
   "cell_type": "code",
   "execution_count": null,
   "id": "0552a9dc",
   "metadata": {},
   "outputs": [],
   "source": [
    "#display all column names of DataFrame\n",
    "#print(SMA.columns.tolist())"
   ]
  },
  {
   "cell_type": "code",
   "execution_count": null,
   "id": "74f12f02",
   "metadata": {},
   "outputs": [],
   "source": [
    "#print(SMA_df['date'])\n",
    "#type(SMA_df['date'])\n",
    "#type(SMA_df['price'])\n",
    "\n",
    "#changing the date data series to df \n",
    "#my_series = pd.Series(SMA_df['date'])\n",
    "\n",
    "#date_df = my_series.to_frame()\n",
    "#date_df = df.rename(columns = {0:'date'})\n",
    "\n",
    "#print(df)\n",
    "#print(type(df))\n",
    "# the daily simple moving average for periods of t =\n",
    "#data['SMA_10'] = data.average_price.rolling(10, min_periods=1).mean()\n",
    "#print(SMA.index)"
   ]
  },
  {
   "cell_type": "code",
   "execution_count": null,
   "id": "aa582991",
   "metadata": {},
   "outputs": [],
   "source": [
    "\n",
    "print(SMA['average_price'])\n",
    "\n",
    "\n",
    "plt.plot(SMA.index,SMA[\"average_price\"], color='red')\n",
    "\n",
    "\n",
    "# modify ticks size\n",
    "plt.xticks(fontsize=14)\n",
    "plt.yticks(fontsize=14)\n",
    "plt.legend(labels =['Average price', '1 period SMA'], fontsize=14)\n",
    "\n",
    "# title and labels\n",
    "plt.title('The daily SMA average price of S&P 500', fontsize=20)\n",
    "plt.xlabel('Index', fontsize=16)\n"
   ]
  },
  {
   "cell_type": "code",
   "execution_count": null,
   "id": "2559ec98",
   "metadata": {},
   "outputs": [],
   "source": [
    "#Combining both SMA Plot and DF plot\n"
   ]
  },
  {
   "cell_type": "code",
   "execution_count": null,
   "id": "d125f493",
   "metadata": {},
   "outputs": [],
   "source": [
    "#computing logarithmic returns on the data set \n",
    "df['Log_Returns'] = np.log(df['price']) - np.log(df['price'].shift(1))\n",
    "df.head()\n",
    "\n"
   ]
  },
  {
   "cell_type": "code",
   "execution_count": null,
   "id": "ad33a16e",
   "metadata": {},
   "outputs": [],
   "source": [
    "%matplotlib inline\n",
    "plt.style.use('ggplot')\n",
    "# plot of logarithmic returns\n",
    "df.plot(x = \"time\", y = \"Log_Returns\", color='black', linewidth=2, figsize=(12,6))\n",
    "# modify ticks size\n",
    "plt.xticks(fontsize=14)\n",
    "plt.yticks(fontsize=14)\n",
    "plt.legend('')\n",
    "\n",
    "# title and labels\n",
    "plt.title('Logarithmic Returns of S&P 500', fontsize=20)\n",
    "plt.xlabel('Time', fontsize=16)\n",
    "plt.ylabel('Logarithmic returns', fontsize=16)\n",
    "\n",
    "plt.show()\n",
    "\n"
   ]
  },
  {
   "cell_type": "code",
   "execution_count": null,
   "id": "2fc2e5a4",
   "metadata": {},
   "outputs": [],
   "source": []
  }
 ],
 "metadata": {
  "kernelspec": {
   "display_name": "Python 3 (ipykernel)",
   "language": "python",
   "name": "python3"
  },
  "language_info": {
   "codemirror_mode": {
    "name": "ipython",
    "version": 3
   },
   "file_extension": ".py",
   "mimetype": "text/x-python",
   "name": "python",
   "nbconvert_exporter": "python",
   "pygments_lexer": "ipython3",
   "version": "3.9.7"
  }
 },
 "nbformat": 4,
 "nbformat_minor": 5
}
